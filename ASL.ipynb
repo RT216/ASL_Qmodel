{
 "cells": [
  {
   "cell_type": "code",
   "execution_count": 17,
   "id": "0ddc8b8c-d63b-4018-a8e3-abefb71373bc",
   "metadata": {
    "tags": []
   },
   "outputs": [],
   "source": [
    "from torchvision import models, transforms, datasets\n",
    "import torch\n",
    "from torch import nn\n",
    "# from utils import *\n",
    "from model import *\n",
    "import matplotlib.pyplot as plt"
   ]
  },
  {
   "cell_type": "code",
   "execution_count": 18,
   "id": "5d9da497-98f2-45ef-8fd7-c3d5c690d3e3",
   "metadata": {
    "tags": []
   },
   "outputs": [],
   "source": [
    "train_data_path = '/mnt/c/Dataset/asl-alphabet/asl_alphabet_train/'\n",
    "device = torch.device(\"cuda:0\" if torch.cuda.is_available() else \"cpu\")"
   ]
  },
  {
   "cell_type": "code",
   "execution_count": 19,
   "id": "48370d39-70cc-4868-8f91-2f8a05dbf0fe",
   "metadata": {
    "tags": []
   },
   "outputs": [],
   "source": [
    "train_transforms = transforms.Compose([\n",
    "    transforms.Resize(32),\n",
    "    transforms.Grayscale(num_output_channels=1),\n",
    "    transforms.ToTensor()\n",
    "])\n",
    "\n",
    "test_transforms = transforms.Compose([\n",
    "    transforms.Resize(32),\n",
    "    transforms.Grayscale(num_output_channels=1),\n",
    "    transforms.ToTensor()\n",
    "])"
   ]
  },
  {
   "cell_type": "code",
   "execution_count": 20,
   "id": "66dab6d8-0455-42e1-866a-9848dd6af9b8",
   "metadata": {
    "tags": []
   },
   "outputs": [
    {
     "name": "stdout",
     "output_type": "stream",
     "text": [
      "CPU times: user 63.3 ms, sys: 24.5 ms, total: 87.7 ms\n",
      "Wall time: 460 ms\n"
     ]
    }
   ],
   "source": [
    "%%time\n",
    "train_dataset = datasets.ImageFolder(train_data_path, transform=train_transforms)"
   ]
  },
  {
   "cell_type": "code",
   "execution_count": 21,
   "id": "b2727e2b-e9ad-490e-87c3-eec1fbc02e45",
   "metadata": {
    "tags": []
   },
   "outputs": [
    {
     "name": "stdout",
     "output_type": "stream",
     "text": [
      "CPU times: user 60.8 ms, sys: 32 ms, total: 92.8 ms\n",
      "Wall time: 606 ms\n"
     ]
    }
   ],
   "source": [
    "%%time\n",
    "val_dataset = datasets.ImageFolder(train_data_path, transform=test_transforms)"
   ]
  },
  {
   "cell_type": "code",
   "execution_count": 22,
   "id": "8648ddfa-16cf-4cfa-8ff8-04ab5db8c005",
   "metadata": {
    "tags": []
   },
   "outputs": [
    {
     "data": {
      "text/plain": [
       "(69600, 17400)"
      ]
     },
     "execution_count": 22,
     "metadata": {},
     "output_type": "execute_result"
    }
   ],
   "source": [
    "from time import time\n",
    "torch.manual_seed(time())\n",
    "num_train_samples = len(train_dataset)\n",
    "# num_train_samples = 20000\n",
    "\n",
    "val_split = 0.2\n",
    "split = int(num_train_samples * val_split)\n",
    "indices = torch.randperm(num_train_samples)\n",
    "\n",
    "\n",
    "train_subset = torch.utils.data.Subset(train_dataset, indices[split:])\n",
    "val_subset = torch.utils.data.Subset(val_dataset, indices[:split])\n",
    "\n",
    "len(train_subset), len(val_subset)"
   ]
  },
  {
   "cell_type": "code",
   "execution_count": 23,
   "id": "c2ee8bcc-405f-46fe-a70b-0acf7a580c8a",
   "metadata": {
    "tags": []
   },
   "outputs": [],
   "source": [
    "batch_size = 64\n",
    "\n",
    "train_dataloader = torch.utils.data.DataLoader(\n",
    "    dataset=train_subset, \n",
    "    batch_size=batch_size,\n",
    "    shuffle=True,\n",
    "    pin_memory=True,\n",
    "    num_workers=16\n",
    ")\n",
    "\n",
    "val_dataloader = torch.utils.data.DataLoader(\n",
    "    dataset=val_subset,\n",
    "    batch_size=4,\n",
    "    shuffle=False,\n",
    "    pin_memory=True,\n",
    "    num_workers=16\n",
    ")"
   ]
  },
  {
   "cell_type": "code",
   "execution_count": 24,
   "id": "26e481cf-072c-4fa6-bf93-44cb1ab26675",
   "metadata": {
    "tags": []
   },
   "outputs": [],
   "source": [
    "classes = train_dataloader.dataset.dataset.classes"
   ]
  },
  {
   "cell_type": "code",
   "execution_count": 25,
   "id": "7552c567-32bb-4f66-871f-4d84c1a1a8d6",
   "metadata": {
    "tags": []
   },
   "outputs": [
    {
     "name": "stdout",
     "output_type": "stream",
     "text": [
      "torch.Size([64, 1, 32, 32]) torch.Size([64])\n",
      "Ground Truth A\n",
      "torch.Size([1, 32, 32])\n",
      "torch.Size([32, 32, 1])\n"
     ]
    },
    {
     "data": {
      "image/png": "[encoded data removed]",
      "text/plain": [
       "<Figure size 640x480 with 1 Axes>"
      ]
     },
     "metadata": {},
     "output_type": "display_data"
    }
   ],
   "source": [
    "for img, label in train_dataloader:\n",
    "    print(img.shape, label.shape)\n",
    "    print(f'Ground Truth {classes[label[0]]}')\n",
    "    print(img[0].size())\n",
    "    print(img[0].permute(1, 2, 0).size())\n",
    "    plt.imshow(img[0].permute(1, 2, 0),cmap='gray')\n",
    "    break"
   ]
  },
  {
   "cell_type": "code",
   "execution_count": 26,
   "id": "dfbba33c",
   "metadata": {},
   "outputs": [
    {
     "name": "stdout",
     "output_type": "stream",
     "text": [
      "myCNN(\n",
      "  (conv1): Conv2d(1, 4, kernel_size=(3, 3), stride=(1, 1), padding=(1, 1), bias=False)\n",
      "  (conv2): Conv2d(4, 8, kernel_size=(3, 3), stride=(1, 1), padding=(1, 1), bias=False)\n",
      "  (fc): Linear(in_features=512, out_features=29, bias=False)\n",
      ")\n"
     ]
    }
   ],
   "source": [
    "model= myCNN().to(device)\n",
    "#model = torch.load('checkpoints/checkpoint_97.74.pth', map_location='cpu').to(device)\n",
    "print(model)"
   ]
  },
  {
   "cell_type": "code",
   "execution_count": 27,
   "id": "9b10360f",
   "metadata": {},
   "outputs": [],
   "source": [
    "criterion = nn.CrossEntropyLoss().to(device)\n",
    "optimizer = torch.optim.Adam(model.parameters(), lr=0.001)\n",
    "scheduler = torch.optim.lr_scheduler.ReduceLROnPlateau(optimizer, \"min\")"
   ]
  },
  {
   "cell_type": "code",
   "execution_count": 28,
   "id": "a8216290",
   "metadata": {},
   "outputs": [
    {
     "name": "stdout",
     "output_type": "stream",
     "text": [
      "\n",
      "Test set: Full Model Accuracy: 2%\n",
      "\n"
     ]
    }
   ],
   "source": [
    "model.eval()\n",
    "\n",
    "def full_inference(model, test_loader):\n",
    "    correct = 0\n",
    "    device = torch.device(\"cuda:0\" if torch.cuda.is_available() else \"cpu\")\n",
    "    for i, (data, target) in enumerate(test_loader, 1):\n",
    "        data, target = data.to(device), target.to(device)\n",
    "        output = model(data)\n",
    "        pred = output.argmax(dim=1, keepdim=True)\n",
    "        correct += pred.eq(target.view_as(pred)).sum().item()\n",
    "    print('\\nTest set: Full Model Accuracy: {:.0f}%\\n'.format(100. * correct / len(test_loader.dataset)))\n",
    "\n",
    "full_inference(model, val_dataloader)\n"
   ]
  },
  {
   "cell_type": "code",
   "execution_count": 29,
   "id": "1dce7144",
   "metadata": {},
   "outputs": [
    {
     "name": "stdout",
     "output_type": "stream",
     "text": [
      "myCNN(\n",
      "  (conv1): Conv2d(1, 4, kernel_size=(3, 3), stride=(1, 1), padding=(1, 1), bias=False)\n",
      "  (conv2): Conv2d(4, 8, kernel_size=(3, 3), stride=(1, 1), padding=(1, 1), bias=False)\n",
      "  (fc): Linear(in_features=512, out_features=29, bias=False)\n",
      ")\n",
      "\n",
      "\n",
      "\n",
      "def forward(self, x):\n",
      "    conv1 = self.conv1(x);  x = None\n",
      "    relu = torch.nn.functional.relu(conv1, inplace = False);  conv1 = None\n",
      "    max_pool2d = torch.nn.functional.max_pool2d(relu, 2, stride = 2, padding = 0, dilation = 1, ceil_mode = False, return_indices = False);  relu = None\n",
      "    conv2 = self.conv2(max_pool2d);  max_pool2d = None\n",
      "    relu_1 = torch.nn.functional.relu(conv2, inplace = False);  conv2 = None\n",
      "    max_pool2d_1 = torch.nn.functional.max_pool2d(relu_1, 2, stride = 2, padding = 0, dilation = 1, ceil_mode = False, return_indices = False);  relu_1 = None\n",
      "    view = max_pool2d_1.view(-1, 512);  max_pool2d_1 = None\n",
      "    fc = self.fc(view);  view = None\n",
      "    return fc\n",
      "    \n",
      "# To see more debug info, please use `graph_module.print_readable()`\n",
      "myCNN(\n",
      "  (conv1): QConv2d(\n",
      "    (qi): QParam()\n",
      "    (qo): QParam()\n",
      "    (conv_module): Conv2d(1, 4, kernel_size=(3, 3), stride=(1, 1), padding=(1, 1), bias=False)\n",
      "    (qw): QParam()\n",
      "  )\n",
      "  (conv2): QConv2d(\n",
      "    (qo): QParam()\n",
      "    (conv_module): Conv2d(4, 8, kernel_size=(3, 3), stride=(1, 1), padding=(1, 1), bias=False)\n",
      "    (qw): QParam()\n",
      "  )\n",
      "  (fc): QLinear(\n",
      "    (qo): QParam()\n",
      "    (fc_module): Linear(in_features=512, out_features=29, bias=False)\n",
      "    (qw): QParam()\n",
      "  )\n",
      ")\n",
      "\n",
      "\n",
      "\n",
      "def forward(self, x):\n",
      "    conv1 = self.conv1(x);  x = None\n",
      "    relu = torch.nn.functional.relu(conv1, inplace = False);  conv1 = None\n",
      "    max_pool2d = torch.nn.functional.max_pool2d(relu, 2, stride = 2, padding = 0, dilation = 1, ceil_mode = False, return_indices = False);  relu = None\n",
      "    conv2 = self.conv2(max_pool2d);  max_pool2d = None\n",
      "    relu_1 = torch.nn.functional.relu(conv2, inplace = False);  conv2 = None\n",
      "    max_pool2d_1 = torch.nn.functional.max_pool2d(relu_1, 2, stride = 2, padding = 0, dilation = 1, ceil_mode = False, return_indices = False);  relu_1 = None\n",
      "    view = max_pool2d_1.view(-1, 512);  max_pool2d_1 = None\n",
      "    fc = self.fc(view);  view = None\n",
      "    return fc\n",
      "    \n",
      "# To see more debug info, please use `graph_module.print_readable()`\n",
      "myCNN(\n",
      "  (conv1): QConv2d(\n",
      "    (qi): QParam()\n",
      "    (qo): QParam()\n",
      "    (conv_module): Conv2d(1, 4, kernel_size=(3, 3), stride=(1, 1), padding=(1, 1), bias=False)\n",
      "    (qw): QParam()\n",
      "  )\n",
      "  (conv2): QConv2d(\n",
      "    (qo): QParam()\n",
      "    (conv_module): Conv2d(4, 8, kernel_size=(3, 3), stride=(1, 1), padding=(1, 1), bias=False)\n",
      "    (qw): QParam()\n",
      "  )\n",
      "  (fc): QLinear(\n",
      "    (qo): QParam()\n",
      "    (fc_module): Linear(in_features=512, out_features=29, bias=False)\n",
      "    (qw): QParam()\n",
      "  )\n",
      "  (qrelu_2): QReLU(\n",
      "    (qo): QParam()\n",
      "  )\n",
      "  (qmaxpool2d_3): QMaxPooling2d(\n",
      "    (qo): QParam()\n",
      "  )\n",
      "  (qrelu_5): QReLU(\n",
      "    (qo): QParam()\n",
      "  )\n",
      "  (qmaxpool2d_6): QMaxPooling2d(\n",
      "    (qo): QParam()\n",
      "  )\n",
      ")\n",
      "\n",
      "\n",
      "\n",
      "def forward(self, x):\n",
      "    conv1 = self.conv1(x);  x = None\n",
      "    qrelu_2 = self.qrelu_2(conv1, inplace = False);  conv1 = None\n",
      "    qmaxpool2d_3 = self.qmaxpool2d_3(qrelu_2, 2, stride = 2, padding = 0, dilation = 1, ceil_mode = False, return_indices = False);  qrelu_2 = None\n",
      "    conv2 = self.conv2(qmaxpool2d_3);  qmaxpool2d_3 = None\n",
      "    qrelu_5 = self.qrelu_5(conv2, inplace = False);  conv2 = None\n",
      "    qmaxpool2d_6 = self.qmaxpool2d_6(qrelu_5, 2, stride = 2, padding = 0, dilation = 1, ceil_mode = False, return_indices = False);  qrelu_5 = None\n",
      "    view = qmaxpool2d_6.view(-1, 512);  qmaxpool2d_6 = None\n",
      "    fc = self.fc(view);  view = None\n",
      "    return fc\n",
      "    \n",
      "# To see more debug info, please use `graph_module.print_readable()`\n",
      "Quantization bit: 4\n"
     ]
    }
   ],
   "source": [
    "num_bits = 4\n",
    "\n",
    "model.quantize(num_bits=num_bits)\n",
    "\n",
    "print('Quantization bit: %d' % num_bits)"
   ]
  },
  {
   "cell_type": "code",
   "execution_count": 30,
   "id": "987fdbb2",
   "metadata": {},
   "outputs": [
    {
     "data": {
      "text/plain": [
       "myCNN(\n",
       "  (conv1): Conv2d(1, 4, kernel_size=(3, 3), stride=(1, 1), padding=(1, 1), bias=False)\n",
       "  (conv2): Conv2d(4, 8, kernel_size=(3, 3), stride=(1, 1), padding=(1, 1), bias=False)\n",
       "  (fc): Linear(in_features=512, out_features=29, bias=False)\n",
       ")"
      ]
     },
     "execution_count": 30,
     "metadata": {},
     "output_type": "execute_result"
    }
   ],
   "source": [
    "model.train()"
   ]
  },
  {
   "cell_type": "code",
   "execution_count": 31,
   "id": "1f99fea4",
   "metadata": {},
   "outputs": [],
   "source": [
    "from tqdm import tqdm\n",
    "\n",
    "def train(model,\n",
    "          criterion,\n",
    "          optimizer,\n",
    "          train_dataloader,\n",
    "          test_dataloader,\n",
    "          print_every,\n",
    "          num_epoch):\n",
    "    steps = 0\n",
    "    train_losses, val_losses = [], []\n",
    "\n",
    "    model.to(device)\n",
    "    for epoch in tqdm(range(num_epoch)):\n",
    "        running_loss = 0\n",
    "        correct_train = 0\n",
    "        total_train = 0\n",
    "        start_time = time()\n",
    "        iter_time = time()\n",
    "        \n",
    "        #model.train()\n",
    "        for i, (images, labels) in enumerate(train_dataloader):\n",
    "            steps += 1\n",
    "            images = images.to(device)\n",
    "            labels = labels.to(device)\n",
    "            images_copy = images.clone().detach()\n",
    "\n",
    "            # Forward pass\n",
    "            \n",
    "            output = model(images_copy)\n",
    "            loss = criterion(output, labels)\n",
    "            \n",
    "            correct_train += (torch.max(output, dim=1)[1] == labels).type(torch.float).sum().item()\n",
    "            total_train += labels.size(0)\n",
    "            \n",
    "            # Backward and optimize\n",
    "            optimizer.zero_grad()\n",
    "            loss.backward()\n",
    "            optimizer.step()\n",
    "\n",
    "            running_loss += loss.item()\n",
    "\n",
    "            # Logging\n",
    "            if steps % print_every == 0:\n",
    "                print(f'Epoch [{epoch + 1}]/[{num_epoch}]. Batch [{i + 1}]/[{len(train_dataloader)}].', end=' ')\n",
    "                print(f'Train loss {running_loss / steps:.5f}.', end=' ')\n",
    "                print(f'Train acc {correct_train / total_train * 100:.5f}.', end=' ')\n",
    "                with torch.no_grad():\n",
    "                    # model.eval()\n",
    "                    correct_val, total_val = 0, 0\n",
    "                    val_loss = 0\n",
    "                    for images, labels in test_dataloader:\n",
    "                        images = images.to(device)\n",
    "                        labels = labels.to(device)\n",
    "                        output = model(images)\n",
    "                        loss = criterion(output, labels)\n",
    "                        val_loss += loss.item()\n",
    "\n",
    "                        correct_val += (torch.max(output, dim=1)[1] == labels).type(torch.float).sum().item()\n",
    "                        total_val += labels.size(0)\n",
    "\n",
    "                print(f'Val loss {val_loss / len(test_dataloader):.5f}. Val acc {correct_val / total_val * 100:.5f}.', end=' ')\n",
    "                print(f'Took {time() - iter_time:.5f} seconds')\n",
    "                iter_time = time()\n",
    "\n",
    "                train_losses.append(running_loss / total_train)\n",
    "                val_losses.append(val_loss / total_val)\n",
    "        scheduler.step(val_loss / len(test_dataloader))\n",
    "\n",
    "\n",
    "        print(f'Epoch took {time() - start_time}') \n",
    "        torch.save(model, f'checkpoints/checkpoint_{correct_val / total_val * 100:.2f}.pth')\n",
    "        \n",
    "    return model, train_losses, val_losses"
   ]
  },
  {
   "cell_type": "code",
   "execution_count": 16,
   "id": "1b251b37",
   "metadata": {},
   "outputs": [
    {
     "name": "stderr",
     "output_type": "stream",
     "text": [
      "  0%|          | 0/100 [00:00<?, ?it/s]"
     ]
    },
    {
     "name": "stdout",
     "output_type": "stream",
     "text": [
      "Epoch [1]/[100]. Batch [50]/[1088]. Train loss 3.36396. Train acc 4.12500. Val loss 3.34768. Val acc 3.43678. Took 13.94349 seconds\n",
      "Epoch [1]/[100]. Batch [100]/[1088]. Train loss 3.34470. Train acc 4.84375. Val loss 3.29074. Val acc 9.13793. Took 12.22381 seconds\n",
      "Epoch [1]/[100]. Batch [150]/[1088]. Train loss 3.29807. Train acc 7.72917. "
     ]
    },
    {
     "name": "stderr",
     "output_type": "stream",
     "text": [
      "  0%|          | 0/100 [00:37<?, ?it/s]\n"
     ]
    },
    {
     "ename": "KeyboardInterrupt",
     "evalue": "",
     "output_type": "error",
     "traceback": [
      "\u001b[0;31m---------------------------------------------------------------------------\u001b[0m",
      "\u001b[0;31mKeyboardInterrupt\u001b[0m                         Traceback (most recent call last)",
      "\u001b[1;32m/home/rich_tang/DeepLearningProgramming/ASL/ASL.ipynb Cell 16\u001b[0m line \u001b[0;36m6\n\u001b[1;32m      <a href='vscode-notebook-cell://ssh-remote%2Bmyrdp/home/rich_tang/DeepLearningProgramming/ASL/ASL.ipynb#X21sdnNjb2RlLXJlbW90ZQ%3D%3D?line=1'>2</a>\u001b[0m num_epoch \u001b[39m=\u001b[39m \u001b[39m100\u001b[39m\n\u001b[1;32m      <a href='vscode-notebook-cell://ssh-remote%2Bmyrdp/home/rich_tang/DeepLearningProgramming/ASL/ASL.ipynb#X21sdnNjb2RlLXJlbW90ZQ%3D%3D?line=2'>3</a>\u001b[0m \u001b[39m#model = torch.load(\"checkpoints/checkpoint_85.68.pth\", map_location='cpu')\u001b[39;00m\n\u001b[1;32m      <a href='vscode-notebook-cell://ssh-remote%2Bmyrdp/home/rich_tang/DeepLearningProgramming/ASL/ASL.ipynb#X21sdnNjb2RlLXJlbW90ZQ%3D%3D?line=3'>4</a>\u001b[0m \u001b[39m#model = model.to(device)\u001b[39;00m\n\u001b[0;32m----> <a href='vscode-notebook-cell://ssh-remote%2Bmyrdp/home/rich_tang/DeepLearningProgramming/ASL/ASL.ipynb#X21sdnNjb2RlLXJlbW90ZQ%3D%3D?line=5'>6</a>\u001b[0m model, train_losses, val_losses \u001b[39m=\u001b[39m train(\n\u001b[1;32m      <a href='vscode-notebook-cell://ssh-remote%2Bmyrdp/home/rich_tang/DeepLearningProgramming/ASL/ASL.ipynb#X21sdnNjb2RlLXJlbW90ZQ%3D%3D?line=6'>7</a>\u001b[0m     model\u001b[39m=\u001b[39;49mmodel,\n\u001b[1;32m      <a href='vscode-notebook-cell://ssh-remote%2Bmyrdp/home/rich_tang/DeepLearningProgramming/ASL/ASL.ipynb#X21sdnNjb2RlLXJlbW90ZQ%3D%3D?line=7'>8</a>\u001b[0m     criterion\u001b[39m=\u001b[39;49mcriterion,\n\u001b[1;32m      <a href='vscode-notebook-cell://ssh-remote%2Bmyrdp/home/rich_tang/DeepLearningProgramming/ASL/ASL.ipynb#X21sdnNjb2RlLXJlbW90ZQ%3D%3D?line=8'>9</a>\u001b[0m     optimizer\u001b[39m=\u001b[39;49moptimizer,\n\u001b[1;32m     <a href='vscode-notebook-cell://ssh-remote%2Bmyrdp/home/rich_tang/DeepLearningProgramming/ASL/ASL.ipynb#X21sdnNjb2RlLXJlbW90ZQ%3D%3D?line=9'>10</a>\u001b[0m     train_dataloader\u001b[39m=\u001b[39;49mtrain_dataloader,\n\u001b[1;32m     <a href='vscode-notebook-cell://ssh-remote%2Bmyrdp/home/rich_tang/DeepLearningProgramming/ASL/ASL.ipynb#X21sdnNjb2RlLXJlbW90ZQ%3D%3D?line=10'>11</a>\u001b[0m     test_dataloader\u001b[39m=\u001b[39;49mval_dataloader,\n\u001b[1;32m     <a href='vscode-notebook-cell://ssh-remote%2Bmyrdp/home/rich_tang/DeepLearningProgramming/ASL/ASL.ipynb#X21sdnNjb2RlLXJlbW90ZQ%3D%3D?line=11'>12</a>\u001b[0m     print_every\u001b[39m=\u001b[39;49mprint_every,\n\u001b[1;32m     <a href='vscode-notebook-cell://ssh-remote%2Bmyrdp/home/rich_tang/DeepLearningProgramming/ASL/ASL.ipynb#X21sdnNjb2RlLXJlbW90ZQ%3D%3D?line=12'>13</a>\u001b[0m     num_epoch\u001b[39m=\u001b[39;49mnum_epoch\n\u001b[1;32m     <a href='vscode-notebook-cell://ssh-remote%2Bmyrdp/home/rich_tang/DeepLearningProgramming/ASL/ASL.ipynb#X21sdnNjb2RlLXJlbW90ZQ%3D%3D?line=13'>14</a>\u001b[0m )\n",
      "\u001b[1;32m/home/rich_tang/DeepLearningProgramming/ASL/ASL.ipynb Cell 16\u001b[0m line \u001b[0;36m5\n\u001b[1;32m     <a href='vscode-notebook-cell://ssh-remote%2Bmyrdp/home/rich_tang/DeepLearningProgramming/ASL/ASL.ipynb#X21sdnNjb2RlLXJlbW90ZQ%3D%3D?line=52'>53</a>\u001b[0m images \u001b[39m=\u001b[39m images\u001b[39m.\u001b[39mto(device)\n\u001b[1;32m     <a href='vscode-notebook-cell://ssh-remote%2Bmyrdp/home/rich_tang/DeepLearningProgramming/ASL/ASL.ipynb#X21sdnNjb2RlLXJlbW90ZQ%3D%3D?line=53'>54</a>\u001b[0m labels \u001b[39m=\u001b[39m labels\u001b[39m.\u001b[39mto(device)\n\u001b[0;32m---> <a href='vscode-notebook-cell://ssh-remote%2Bmyrdp/home/rich_tang/DeepLearningProgramming/ASL/ASL.ipynb#X21sdnNjb2RlLXJlbW90ZQ%3D%3D?line=54'>55</a>\u001b[0m output \u001b[39m=\u001b[39m model(images)\n\u001b[1;32m     <a href='vscode-notebook-cell://ssh-remote%2Bmyrdp/home/rich_tang/DeepLearningProgramming/ASL/ASL.ipynb#X21sdnNjb2RlLXJlbW90ZQ%3D%3D?line=55'>56</a>\u001b[0m loss \u001b[39m=\u001b[39m criterion(output, labels)\n\u001b[1;32m     <a href='vscode-notebook-cell://ssh-remote%2Bmyrdp/home/rich_tang/DeepLearningProgramming/ASL/ASL.ipynb#X21sdnNjb2RlLXJlbW90ZQ%3D%3D?line=56'>57</a>\u001b[0m val_loss \u001b[39m+\u001b[39m\u001b[39m=\u001b[39m loss\u001b[39m.\u001b[39mitem()\n",
      "File \u001b[0;32m~/miniconda3/envs/pytorch-env/lib/python3.11/site-packages/torch/nn/modules/module.py:1501\u001b[0m, in \u001b[0;36mModule._call_impl\u001b[0;34m(self, *args, **kwargs)\u001b[0m\n\u001b[1;32m   1496\u001b[0m \u001b[39m# If we don't have any hooks, we want to skip the rest of the logic in\u001b[39;00m\n\u001b[1;32m   1497\u001b[0m \u001b[39m# this function, and just call forward.\u001b[39;00m\n\u001b[1;32m   1498\u001b[0m \u001b[39mif\u001b[39;00m \u001b[39mnot\u001b[39;00m (\u001b[39mself\u001b[39m\u001b[39m.\u001b[39m_backward_hooks \u001b[39mor\u001b[39;00m \u001b[39mself\u001b[39m\u001b[39m.\u001b[39m_backward_pre_hooks \u001b[39mor\u001b[39;00m \u001b[39mself\u001b[39m\u001b[39m.\u001b[39m_forward_hooks \u001b[39mor\u001b[39;00m \u001b[39mself\u001b[39m\u001b[39m.\u001b[39m_forward_pre_hooks\n\u001b[1;32m   1499\u001b[0m         \u001b[39mor\u001b[39;00m _global_backward_pre_hooks \u001b[39mor\u001b[39;00m _global_backward_hooks\n\u001b[1;32m   1500\u001b[0m         \u001b[39mor\u001b[39;00m _global_forward_hooks \u001b[39mor\u001b[39;00m _global_forward_pre_hooks):\n\u001b[0;32m-> 1501\u001b[0m     \u001b[39mreturn\u001b[39;00m forward_call(\u001b[39m*\u001b[39;49margs, \u001b[39m*\u001b[39;49m\u001b[39m*\u001b[39;49mkwargs)\n\u001b[1;32m   1502\u001b[0m \u001b[39m# Do not call functions when jit is used\u001b[39;00m\n\u001b[1;32m   1503\u001b[0m full_backward_hooks, non_full_backward_hooks \u001b[39m=\u001b[39m [], []\n",
      "File \u001b[0;32m~/DeepLearningProgramming/ASL/model.py:36\u001b[0m, in \u001b[0;36mmyCNN.forward\u001b[0;34m(self, x)\u001b[0m\n\u001b[1;32m     35\u001b[0m \u001b[39mdef\u001b[39;00m \u001b[39mforward\u001b[39m(\u001b[39mself\u001b[39m, x):\n\u001b[0;32m---> 36\u001b[0m     x \u001b[39m=\u001b[39m F\u001b[39m.\u001b[39mrelu(\u001b[39mself\u001b[39;49m\u001b[39m.\u001b[39;49mconv1(x))\n\u001b[1;32m     37\u001b[0m     x \u001b[39m=\u001b[39m F\u001b[39m.\u001b[39mmax_pool2d(x, \u001b[39m2\u001b[39m, \u001b[39m2\u001b[39m)\n\u001b[1;32m     38\u001b[0m     x \u001b[39m=\u001b[39m F\u001b[39m.\u001b[39mrelu(\u001b[39mself\u001b[39m\u001b[39m.\u001b[39mconv2(x))\n",
      "File \u001b[0;32m~/miniconda3/envs/pytorch-env/lib/python3.11/site-packages/torch/nn/modules/module.py:1501\u001b[0m, in \u001b[0;36mModule._call_impl\u001b[0;34m(self, *args, **kwargs)\u001b[0m\n\u001b[1;32m   1496\u001b[0m \u001b[39m# If we don't have any hooks, we want to skip the rest of the logic in\u001b[39;00m\n\u001b[1;32m   1497\u001b[0m \u001b[39m# this function, and just call forward.\u001b[39;00m\n\u001b[1;32m   1498\u001b[0m \u001b[39mif\u001b[39;00m \u001b[39mnot\u001b[39;00m (\u001b[39mself\u001b[39m\u001b[39m.\u001b[39m_backward_hooks \u001b[39mor\u001b[39;00m \u001b[39mself\u001b[39m\u001b[39m.\u001b[39m_backward_pre_hooks \u001b[39mor\u001b[39;00m \u001b[39mself\u001b[39m\u001b[39m.\u001b[39m_forward_hooks \u001b[39mor\u001b[39;00m \u001b[39mself\u001b[39m\u001b[39m.\u001b[39m_forward_pre_hooks\n\u001b[1;32m   1499\u001b[0m         \u001b[39mor\u001b[39;00m _global_backward_pre_hooks \u001b[39mor\u001b[39;00m _global_backward_hooks\n\u001b[1;32m   1500\u001b[0m         \u001b[39mor\u001b[39;00m _global_forward_hooks \u001b[39mor\u001b[39;00m _global_forward_pre_hooks):\n\u001b[0;32m-> 1501\u001b[0m     \u001b[39mreturn\u001b[39;00m forward_call(\u001b[39m*\u001b[39;49margs, \u001b[39m*\u001b[39;49m\u001b[39m*\u001b[39;49mkwargs)\n\u001b[1;32m   1502\u001b[0m \u001b[39m# Do not call functions when jit is used\u001b[39;00m\n\u001b[1;32m   1503\u001b[0m full_backward_hooks, non_full_backward_hooks \u001b[39m=\u001b[39m [], []\n",
      "File \u001b[0;32m~/miniconda3/envs/pytorch-env/lib/python3.11/site-packages/torch/nn/modules/conv.py:463\u001b[0m, in \u001b[0;36mConv2d.forward\u001b[0;34m(self, input)\u001b[0m\n\u001b[1;32m    462\u001b[0m \u001b[39mdef\u001b[39;00m \u001b[39mforward\u001b[39m(\u001b[39mself\u001b[39m, \u001b[39minput\u001b[39m: Tensor) \u001b[39m-\u001b[39m\u001b[39m>\u001b[39m Tensor:\n\u001b[0;32m--> 463\u001b[0m     \u001b[39mreturn\u001b[39;00m \u001b[39mself\u001b[39m\u001b[39m.\u001b[39m_conv_forward(\u001b[39minput\u001b[39m, \u001b[39mself\u001b[39m\u001b[39m.\u001b[39mweight, \u001b[39mself\u001b[39;49m\u001b[39m.\u001b[39;49mbias)\n",
      "File \u001b[0;32m~/miniconda3/envs/pytorch-env/lib/python3.11/site-packages/torch/nn/modules/module.py:1601\u001b[0m, in \u001b[0;36mModule.__getattr__\u001b[0;34m(self, name)\u001b[0m\n\u001b[1;32m   1598\u001b[0m     \u001b[39mif\u001b[39;00m \u001b[39m'\u001b[39m\u001b[39m_backward_pre_hooks\u001b[39m\u001b[39m'\u001b[39m \u001b[39mnot\u001b[39;00m \u001b[39min\u001b[39;00m \u001b[39mself\u001b[39m\u001b[39m.\u001b[39m\u001b[39m__dict__\u001b[39m:\n\u001b[1;32m   1599\u001b[0m         \u001b[39mself\u001b[39m\u001b[39m.\u001b[39m_backward_pre_hooks \u001b[39m=\u001b[39m OrderedDict()\n\u001b[0;32m-> 1601\u001b[0m \u001b[39mdef\u001b[39;00m \u001b[39m__getattr__\u001b[39m(\u001b[39mself\u001b[39m, name: \u001b[39mstr\u001b[39m) \u001b[39m-\u001b[39m\u001b[39m>\u001b[39m Union[Tensor, \u001b[39m'\u001b[39m\u001b[39mModule\u001b[39m\u001b[39m'\u001b[39m]:\n\u001b[1;32m   1602\u001b[0m     \u001b[39mif\u001b[39;00m \u001b[39m'\u001b[39m\u001b[39m_parameters\u001b[39m\u001b[39m'\u001b[39m \u001b[39min\u001b[39;00m \u001b[39mself\u001b[39m\u001b[39m.\u001b[39m\u001b[39m__dict__\u001b[39m:\n\u001b[1;32m   1603\u001b[0m         _parameters \u001b[39m=\u001b[39m \u001b[39mself\u001b[39m\u001b[39m.\u001b[39m\u001b[39m__dict__\u001b[39m[\u001b[39m'\u001b[39m\u001b[39m_parameters\u001b[39m\u001b[39m'\u001b[39m]\n",
      "\u001b[0;31mKeyboardInterrupt\u001b[0m: "
     ]
    }
   ],
   "source": [
    "print_every = 50\n",
    "num_epoch = 100\n",
    "#model = torch.load(\"checkpoints/checkpoint_85.68.pth\", map_location='cpu')\n",
    "#model = model.to(device)\n",
    "\n",
    "model, train_losses, val_losses = train(\n",
    "    model=model,\n",
    "    criterion=criterion,\n",
    "    optimizer=optimizer,\n",
    "    train_dataloader=train_dataloader,\n",
    "    test_dataloader=val_dataloader,\n",
    "    print_every=print_every,\n",
    "    num_epoch=num_epoch\n",
    ")"
   ]
  },
  {
   "cell_type": "code",
   "execution_count": null,
   "id": "35e5301e",
   "metadata": {},
   "outputs": [],
   "source": [
    "import numpy as np\n",
    "train_losses_array=np.array(train_losses)\n",
    "val_losses_array=np.array(val_losses)\n",
    "np.save('train_losses_array.npy',train_losses_array) \n",
    "np.save('val_losses_array.npy',val_losses_array) \n",
    "# np.save('train_losses_array.txt','w',train_losses) \n",
    "# np.save('val_losses_array.txt','w',val_losses) "
   ]
  },
  {
   "cell_type": "code",
   "execution_count": null,
   "id": "2effd7e0",
   "metadata": {},
   "outputs": [],
   "source": [
    "plt.plot(train_losses, label='Training loss')\n",
    "plt.plot(val_losses, label='Validation loss')\n",
    "plt.legend(frameon=False)\n",
    "plt.show()"
   ]
  },
  {
   "cell_type": "code",
   "execution_count": null,
   "id": "475f101d",
   "metadata": {},
   "outputs": [],
   "source": [
    "from pathlib import Path\n",
    "from PIL import Image\n",
    "import torch\n",
    "\n",
    "\n",
    "test_data_path = Path('/mnt/d/Dataset/asl-alphabet/asl_alphabet_test')\n",
    "\n",
    "\n",
    "class ASLTestDataset(torch.utils.data.Dataset):\n",
    "    def __init__(self, root_path, transforms=None):\n",
    "        super().__init__()\n",
    "        \n",
    "        self.transforms = transforms\n",
    "        self.imgs = sorted(list(Path(root_path).glob('*.jpg')))\n",
    "        \n",
    "    def __len__(self):\n",
    "        return len(self.imgs)\n",
    "    \n",
    "    def __getitem__(self, idx):\n",
    "        img_path = self.imgs[idx]\n",
    "        img = Image.open(img_path).convert('L')\n",
    "        \n",
    "        label = img_path.parts[-1].split('_')[0]\n",
    "        if self.transforms:\n",
    "            img = self.transforms(img)\n",
    "        \n",
    "        return img, label"
   ]
  },
  {
   "cell_type": "code",
   "execution_count": null,
   "id": "364d043e",
   "metadata": {
    "tags": []
   },
   "outputs": [],
   "source": [
    "test_dataset = ASLTestDataset(test_data_path, transforms=test_transforms)\n",
    "\n",
    "columns = 7\n",
    "row = round(len(test_dataset) / columns) + 1\n",
    "\n",
    "fig, ax = plt.subplots(row, columns, figsize=(columns * row, row * columns))\n",
    "plt.subplots_adjust(wspace=0.1, hspace=0.2)\n",
    "\n",
    "test_model = torch.load(\"checkpoints/checkpoint_96.89.pth\", map_location='cpu')\n",
    "#test_model = model\n",
    "test_model.to(device)\n",
    "\n",
    "i, j = 0, 0\n",
    "for img, label in test_dataset:\n",
    "    img = torch.Tensor(img)\n",
    "    img = img.to(device)\n",
    "    test_model.eval()\n",
    "    prediction = test_model(img[None])\n",
    "\n",
    "    ax[i][j].imshow(img.cpu().permute(1, 2, 0),cmap='gray')\n",
    "    ax[i][j].set_title(f'GT {label}. Pred {classes[torch.max(prediction, dim=1)[1]]}') #torch.max(prediction, dim=1)[1]\n",
    "    ax[i][j].axis('off')\n",
    "    j += 1\n",
    "    if j == columns:\n",
    "        j = 0\n",
    "        i += 1\n",
    "        \n",
    "plt.show()"
   ]
  },
  {
   "cell_type": "code",
   "execution_count": null,
   "id": "a82a41cc-80bb-479d-b46b-65c3bb6f8fb7",
   "metadata": {},
   "outputs": [],
   "source": []
  }
 ],
 "metadata": {
  "kernelspec": {
   "display_name": "Python 3 (ipykernel)",
   "language": "python",
   "name": "python3"
  },
  "language_info": {
   "codemirror_mode": {
    "name": "ipython",
    "version": 3
   },
   "file_extension": ".py",
   "mimetype": "text/x-python",
   "name": "python",
   "nbconvert_exporter": "python",
   "pygments_lexer": "ipython3",
   "version": "3.11.5"
  }
 },
 "nbformat": 4,
 "nbformat_minor": 5
}
