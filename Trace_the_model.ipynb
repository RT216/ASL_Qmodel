{
 "cells": [
  {
   "cell_type": "code",
   "execution_count": null,
   "id": "996eb5cc-0aad-4205-8b17-19870ebf3af9",
   "metadata": {
    "tags": []
   },
   "outputs": [],
   "source": [
    "from torchvision import models, transforms, datasets\n",
    "import torch\n",
    "from torch import nn\n",
    "#from model import *"
   ]
  },
  {
   "cell_type": "code",
   "execution_count": null,
   "id": "c5f27565-fafb-4e8b-a6e5-cceabcc5c4cf",
   "metadata": {},
   "outputs": [],
   "source": [
    "model = torch.load(\"checkpoints/checkpoint_96.89.pth\", map_location='cpu')\n",
    "model.eval()\n",
    "print(model)\n"
   ]
  },
  {
   "cell_type": "code",
   "execution_count": null,
   "id": "b8486547",
   "metadata": {},
   "outputs": [],
   "source": [
    "x = torch.rand(1, 32, 32)\n",
    "traced_model = torch.jit.trace(model.forward, x)\n",
    "print(traced_model)\n",
    "traced_model(x)"
   ]
  },
  {
   "cell_type": "code",
   "execution_count": null,
   "id": "a44a7cff",
   "metadata": {},
   "outputs": [],
   "source": [
    "print(traced_model.code)\n",
    "traced_model.save(\"traced_model.pt\")"
   ]
  },
  {
   "cell_type": "code",
   "execution_count": null,
   "id": "0cca9f12",
   "metadata": {},
   "outputs": [],
   "source": [
    "model_scripted = torch.jit.script(traced_model)\n",
    "print(model_scripted)\n",
    "print(model_scripted.code)"
   ]
  },
  {
   "cell_type": "code",
   "execution_count": null,
   "id": "e33e1d92",
   "metadata": {},
   "outputs": [],
   "source": [
    "model_scripted.save('model_96.89.pt')"
   ]
  },
  {
   "cell_type": "code",
   "execution_count": null,
   "id": "58ce344a",
   "metadata": {},
   "outputs": [],
   "source": []
  }
 ],
 "metadata": {
  "kernelspec": {
   "display_name": "Python 3 (ipykernel)",
   "language": "python",
   "name": "python3"
  },
  "language_info": {
   "codemirror_mode": {
    "name": "ipython",
    "version": 3
   },
   "file_extension": ".py",
   "mimetype": "text/x-python",
   "name": "python",
   "nbconvert_exporter": "python",
   "pygments_lexer": "ipython3",
   "version": "3.8.17"
  }
 },
 "nbformat": 4,
 "nbformat_minor": 5
}
